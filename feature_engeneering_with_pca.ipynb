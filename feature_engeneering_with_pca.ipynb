{
 "cells": [
  {
   "cell_type": "code",
   "execution_count": 45,
   "metadata": {},
   "outputs": [],
   "source": [
    "from sklearn.preprocessing import LabelEncoder, StandardScaler\n",
    "from sklearn.model_selection import train_test_split\n",
    "from sklearn.decomposition import PCA\n",
    "from sklearn.neighbors import KNeighborsClassifier\n",
    "from sklearn.svm import LinearSVC\n",
    "from sklearn.metrics import classification_report\n",
    "from sklearn.pipeline import Pipeline\n",
    "import time\n",
    "import numpy as np\n",
    "from load_data_and_distribution_analisys import split_dataset_v1, plot_confusion_matrix, load_data"
   ]
  },
  {
   "cell_type": "markdown",
   "metadata": {},
   "source": [
    "# Feature engeneering con pca\n",
    "\n",
    "In questo notebook viene effettuato lo stesso test fatto nel notebook `other_classifiers_with_pca`, con l'aggiunta del feature engeneering.  \n",
    "Riteniamo sia un test necessario da fare visto che tramite feature engeneering abbiamo aumentato il numero delle feature totali all'interno del dataset; inoltre abbiamo testato già che il solo utilizzo delle nuove feature non ha migliorato le performance dei nostri modelli, dunque tramite PCA possiamo provare ad estrarre pattern più significativi. Avremmo potuto anche fare feature selection dopo aver aggiunto queste nuove feature, però abbiamo ritenuto che il rapporto risultati/tempo impiegato per fare feature selection, non sarebbe stato vantaggioso."
   ]
  },
  {
   "cell_type": "code",
   "execution_count": 46,
   "metadata": {},
   "outputs": [
    {
     "name": "stdout",
     "output_type": "stream",
     "text": [
      "Warning: Looks like you're using an outdated `kagglehub` version (installed: 0.3.6), please consider upgrading to the latest version (0.3.7).\n",
      "Path to dataset files: /Users/marcodeano/.cache/kagglehub/datasets/sooyoungher/smoking-drinking-dataset/versions/2\n"
     ]
    }
   ],
   "source": [
    "dataset = load_data()"
   ]
  },
  {
   "cell_type": "markdown",
   "metadata": {},
   "source": [
    "## Features antropometriche"
   ]
  },
  {
   "cell_type": "code",
   "execution_count": 47,
   "metadata": {},
   "outputs": [],
   "source": [
    "dataset['BMI'] = dataset['weight'] / (dataset['height'] / 100) ** 2\n",
    "dataset['wth_ratio'] = dataset['waistline'] / dataset['height']\n",
    "dataset['wtw_ratio'] = dataset['waistline'] / dataset['weight']\n",
    "dataset['obesity_flag'] = (dataset['BMI'] >= 30).astype(int)"
   ]
  },
  {
   "cell_type": "markdown",
   "metadata": {},
   "source": [
    "## Features cardiovascolari"
   ]
  },
  {
   "cell_type": "code",
   "execution_count": 48,
   "metadata": {},
   "outputs": [],
   "source": [
    "def bp_category(row):\n",
    "    if row['SBP'] < 120 and row['DBP'] < 80:\n",
    "        return 'Normal'\n",
    "    elif row['SBP'] < 140 and row['DBP'] < 90:\n",
    "        return 'Prehypertensive'\n",
    "    else:\n",
    "        return 'Hypertensive'\n",
    "\n",
    "dataset['pulse_pressure'] = dataset['SBP'] - dataset['DBP']\n",
    "dataset['MAP'] = (2 * dataset['DBP'] + dataset['SBP']) / 3\n",
    "dataset['bp_category'] = dataset.apply(bp_category, axis=1)"
   ]
  },
  {
   "cell_type": "markdown",
   "metadata": {},
   "source": [
    "## Profilo lipidico e rapporti metabolici"
   ]
  },
  {
   "cell_type": "code",
   "execution_count": 49,
   "metadata": {},
   "outputs": [],
   "source": [
    "dataset['TC_HDL_ratio'] = dataset['tot_chole'] / dataset['HDL_chole']\n",
    "dataset['LDL_HDL_ratio'] = dataset['LDL_chole'] / dataset['HDL_chole']                              \n",
    "dataset['non_HDL_chole'] = dataset['tot_chole'] - dataset['HDL_chole']\n",
    "dataset['triglyceride_hdl_ratio'] = dataset['triglyceride'] / dataset['HDL_chole']      \n",
    "\n",
    "dataset[\"AIP\"] = np.log10(dataset['triglyceride'] / dataset['HDL_chole'])\n",
    "\n",
    "dataset['TyG'] = np.log(dataset['triglyceride'] * dataset['BLDS'] / 2)                   "
   ]
  },
  {
   "cell_type": "markdown",
   "metadata": {},
   "source": [
    "## Features inerenti la funzione epatica e renale"
   ]
  },
  {
   "cell_type": "code",
   "execution_count": 50,
   "metadata": {},
   "outputs": [],
   "source": [
    "def calc_eGFR(row):\n",
    "    # Using the CKD-EPI formula from 2009\n",
    "    # https://doi.org/10.7326/0003-4819-150-9-200905050-00006\n",
    "\n",
    "    SCr = row['serum_creatinine']\n",
    "    age = row['age']\n",
    "    is_female = row['sex'] == 'Female'\n",
    "    \n",
    "    k = 0.7 if is_female else 0.9\n",
    "    a = -0.329 if is_female else -0.411\n",
    "\n",
    "    eGFR = 141 * min(SCr / k, 1) ** a * max(SCr / k, 1) ** (-1.209) * 0.993 ** age\n",
    "    eGFR *= 1.018 if is_female else 1\n",
    "\n",
    "    return eGFR\n",
    "\n",
    "dataset['AST_ALT_ratio'] = dataset['SGOT_AST'] / dataset['SGOT_ALT']\n",
    "dataset['liver_enzyme_avg'] = (dataset['SGOT_AST'] + dataset['SGOT_ALT'] + dataset['gamma_GTP']) / 3\n",
    "dataset['eGFR'] = dataset.apply(calc_eGFR, axis=1)"
   ]
  },
  {
   "cell_type": "code",
   "execution_count": 51,
   "metadata": {},
   "outputs": [],
   "source": [
    "label_encoders = {}\n",
    "\n",
    "for column in dataset.columns:\n",
    "    if dataset[column].dtype == 'object':\n",
    "        label_encoders[column] = LabelEncoder()\n",
    "        dataset[column] = label_encoders[column].fit_transform(dataset[column])"
   ]
  },
  {
   "cell_type": "code",
   "execution_count": 52,
   "metadata": {},
   "outputs": [
    {
     "data": {
      "text/html": [
       "<div>\n",
       "<style scoped>\n",
       "    .dataframe tbody tr th:only-of-type {\n",
       "        vertical-align: middle;\n",
       "    }\n",
       "\n",
       "    .dataframe tbody tr th {\n",
       "        vertical-align: top;\n",
       "    }\n",
       "\n",
       "    .dataframe thead th {\n",
       "        text-align: right;\n",
       "    }\n",
       "</style>\n",
       "<table border=\"1\" class=\"dataframe\">\n",
       "  <thead>\n",
       "    <tr style=\"text-align: right;\">\n",
       "      <th></th>\n",
       "      <th>sex</th>\n",
       "      <th>age</th>\n",
       "      <th>height</th>\n",
       "      <th>weight</th>\n",
       "      <th>waistline</th>\n",
       "      <th>sight_left</th>\n",
       "      <th>sight_right</th>\n",
       "      <th>hear_left</th>\n",
       "      <th>hear_right</th>\n",
       "      <th>SBP</th>\n",
       "      <th>DBP</th>\n",
       "      <th>BLDS</th>\n",
       "      <th>tot_chole</th>\n",
       "      <th>HDL_chole</th>\n",
       "      <th>LDL_chole</th>\n",
       "      <th>triglyceride</th>\n",
       "      <th>hemoglobin</th>\n",
       "      <th>urine_protein</th>\n",
       "      <th>serum_creatinine</th>\n",
       "      <th>SGOT_AST</th>\n",
       "      <th>SGOT_ALT</th>\n",
       "      <th>gamma_GTP</th>\n",
       "      <th>SMK_stat_type_cd</th>\n",
       "      <th>DRK_YN</th>\n",
       "      <th>BMI</th>\n",
       "      <th>wth_ratio</th>\n",
       "      <th>wtw_ratio</th>\n",
       "      <th>obesity_flag</th>\n",
       "      <th>pulse_pressure</th>\n",
       "      <th>MAP</th>\n",
       "      <th>bp_category</th>\n",
       "      <th>TC_HDL_ratio</th>\n",
       "      <th>LDL_HDL_ratio</th>\n",
       "      <th>non_HDL_chole</th>\n",
       "      <th>triglyceride_hdl_ratio</th>\n",
       "      <th>AIP</th>\n",
       "      <th>TyG</th>\n",
       "      <th>AST_ALT_ratio</th>\n",
       "      <th>liver_enzyme_avg</th>\n",
       "      <th>eGFR</th>\n",
       "    </tr>\n",
       "  </thead>\n",
       "  <tbody>\n",
       "    <tr>\n",
       "      <th>0</th>\n",
       "      <td>1</td>\n",
       "      <td>35</td>\n",
       "      <td>170</td>\n",
       "      <td>75</td>\n",
       "      <td>90.0</td>\n",
       "      <td>1.0</td>\n",
       "      <td>1.0</td>\n",
       "      <td>1.0</td>\n",
       "      <td>1.0</td>\n",
       "      <td>120.0</td>\n",
       "      <td>80.0</td>\n",
       "      <td>99.0</td>\n",
       "      <td>193.0</td>\n",
       "      <td>48.0</td>\n",
       "      <td>126.0</td>\n",
       "      <td>92.0</td>\n",
       "      <td>17.1</td>\n",
       "      <td>1.0</td>\n",
       "      <td>1.0</td>\n",
       "      <td>21.0</td>\n",
       "      <td>35.0</td>\n",
       "      <td>40.0</td>\n",
       "      <td>1.0</td>\n",
       "      <td>1</td>\n",
       "      <td>25.951557</td>\n",
       "      <td>0.529412</td>\n",
       "      <td>1.200000</td>\n",
       "      <td>0</td>\n",
       "      <td>40.0</td>\n",
       "      <td>93.333333</td>\n",
       "      <td>2</td>\n",
       "      <td>4.020833</td>\n",
       "      <td>2.625000</td>\n",
       "      <td>145.0</td>\n",
       "      <td>1.916667</td>\n",
       "      <td>0.282547</td>\n",
       "      <td>8.423761</td>\n",
       "      <td>0.600000</td>\n",
       "      <td>32.000000</td>\n",
       "      <td>97.078265</td>\n",
       "    </tr>\n",
       "    <tr>\n",
       "      <th>1</th>\n",
       "      <td>1</td>\n",
       "      <td>30</td>\n",
       "      <td>180</td>\n",
       "      <td>80</td>\n",
       "      <td>89.0</td>\n",
       "      <td>0.9</td>\n",
       "      <td>1.2</td>\n",
       "      <td>1.0</td>\n",
       "      <td>1.0</td>\n",
       "      <td>130.0</td>\n",
       "      <td>82.0</td>\n",
       "      <td>106.0</td>\n",
       "      <td>228.0</td>\n",
       "      <td>55.0</td>\n",
       "      <td>148.0</td>\n",
       "      <td>121.0</td>\n",
       "      <td>15.8</td>\n",
       "      <td>1.0</td>\n",
       "      <td>0.9</td>\n",
       "      <td>20.0</td>\n",
       "      <td>36.0</td>\n",
       "      <td>27.0</td>\n",
       "      <td>3.0</td>\n",
       "      <td>0</td>\n",
       "      <td>24.691358</td>\n",
       "      <td>0.494444</td>\n",
       "      <td>1.112500</td>\n",
       "      <td>0</td>\n",
       "      <td>48.0</td>\n",
       "      <td>98.000000</td>\n",
       "      <td>2</td>\n",
       "      <td>4.145455</td>\n",
       "      <td>2.690909</td>\n",
       "      <td>173.0</td>\n",
       "      <td>2.200000</td>\n",
       "      <td>0.342423</td>\n",
       "      <td>8.766082</td>\n",
       "      <td>0.555556</td>\n",
       "      <td>27.666667</td>\n",
       "      <td>114.208011</td>\n",
       "    </tr>\n",
       "    <tr>\n",
       "      <th>2</th>\n",
       "      <td>1</td>\n",
       "      <td>40</td>\n",
       "      <td>165</td>\n",
       "      <td>75</td>\n",
       "      <td>91.0</td>\n",
       "      <td>1.2</td>\n",
       "      <td>1.5</td>\n",
       "      <td>1.0</td>\n",
       "      <td>1.0</td>\n",
       "      <td>120.0</td>\n",
       "      <td>70.0</td>\n",
       "      <td>98.0</td>\n",
       "      <td>136.0</td>\n",
       "      <td>41.0</td>\n",
       "      <td>74.0</td>\n",
       "      <td>104.0</td>\n",
       "      <td>15.8</td>\n",
       "      <td>1.0</td>\n",
       "      <td>0.9</td>\n",
       "      <td>47.0</td>\n",
       "      <td>32.0</td>\n",
       "      <td>68.0</td>\n",
       "      <td>1.0</td>\n",
       "      <td>0</td>\n",
       "      <td>27.548209</td>\n",
       "      <td>0.551515</td>\n",
       "      <td>1.213333</td>\n",
       "      <td>0</td>\n",
       "      <td>50.0</td>\n",
       "      <td>86.666667</td>\n",
       "      <td>2</td>\n",
       "      <td>3.317073</td>\n",
       "      <td>1.804878</td>\n",
       "      <td>95.0</td>\n",
       "      <td>2.536585</td>\n",
       "      <td>0.404249</td>\n",
       "      <td>8.536211</td>\n",
       "      <td>1.468750</td>\n",
       "      <td>49.000000</td>\n",
       "      <td>106.460635</td>\n",
       "    </tr>\n",
       "    <tr>\n",
       "      <th>3</th>\n",
       "      <td>1</td>\n",
       "      <td>50</td>\n",
       "      <td>175</td>\n",
       "      <td>80</td>\n",
       "      <td>91.0</td>\n",
       "      <td>1.5</td>\n",
       "      <td>1.2</td>\n",
       "      <td>1.0</td>\n",
       "      <td>1.0</td>\n",
       "      <td>145.0</td>\n",
       "      <td>87.0</td>\n",
       "      <td>95.0</td>\n",
       "      <td>201.0</td>\n",
       "      <td>76.0</td>\n",
       "      <td>104.0</td>\n",
       "      <td>106.0</td>\n",
       "      <td>17.6</td>\n",
       "      <td>1.0</td>\n",
       "      <td>1.1</td>\n",
       "      <td>29.0</td>\n",
       "      <td>34.0</td>\n",
       "      <td>18.0</td>\n",
       "      <td>1.0</td>\n",
       "      <td>0</td>\n",
       "      <td>26.122449</td>\n",
       "      <td>0.520000</td>\n",
       "      <td>1.137500</td>\n",
       "      <td>0</td>\n",
       "      <td>58.0</td>\n",
       "      <td>106.333333</td>\n",
       "      <td>0</td>\n",
       "      <td>2.644737</td>\n",
       "      <td>1.368421</td>\n",
       "      <td>125.0</td>\n",
       "      <td>1.394737</td>\n",
       "      <td>0.144492</td>\n",
       "      <td>8.524169</td>\n",
       "      <td>0.852941</td>\n",
       "      <td>27.000000</td>\n",
       "      <td>77.860462</td>\n",
       "    </tr>\n",
       "    <tr>\n",
       "      <th>4</th>\n",
       "      <td>1</td>\n",
       "      <td>50</td>\n",
       "      <td>165</td>\n",
       "      <td>60</td>\n",
       "      <td>80.0</td>\n",
       "      <td>1.0</td>\n",
       "      <td>1.2</td>\n",
       "      <td>1.0</td>\n",
       "      <td>1.0</td>\n",
       "      <td>138.0</td>\n",
       "      <td>82.0</td>\n",
       "      <td>101.0</td>\n",
       "      <td>199.0</td>\n",
       "      <td>61.0</td>\n",
       "      <td>117.0</td>\n",
       "      <td>104.0</td>\n",
       "      <td>13.8</td>\n",
       "      <td>1.0</td>\n",
       "      <td>0.8</td>\n",
       "      <td>19.0</td>\n",
       "      <td>12.0</td>\n",
       "      <td>25.0</td>\n",
       "      <td>1.0</td>\n",
       "      <td>0</td>\n",
       "      <td>22.038567</td>\n",
       "      <td>0.484848</td>\n",
       "      <td>1.333333</td>\n",
       "      <td>0</td>\n",
       "      <td>56.0</td>\n",
       "      <td>100.666667</td>\n",
       "      <td>2</td>\n",
       "      <td>3.262295</td>\n",
       "      <td>1.918033</td>\n",
       "      <td>138.0</td>\n",
       "      <td>1.704918</td>\n",
       "      <td>0.231704</td>\n",
       "      <td>8.566364</td>\n",
       "      <td>1.583333</td>\n",
       "      <td>18.666667</td>\n",
       "      <td>104.161020</td>\n",
       "    </tr>\n",
       "  </tbody>\n",
       "</table>\n",
       "</div>"
      ],
      "text/plain": [
       "   sex  age  height  ...  AST_ALT_ratio  liver_enzyme_avg        eGFR\n",
       "0    1   35     170  ...       0.600000         32.000000   97.078265\n",
       "1    1   30     180  ...       0.555556         27.666667  114.208011\n",
       "2    1   40     165  ...       1.468750         49.000000  106.460635\n",
       "3    1   50     175  ...       0.852941         27.000000   77.860462\n",
       "4    1   50     165  ...       1.583333         18.666667  104.161020\n",
       "\n",
       "[5 rows x 40 columns]"
      ]
     },
     "execution_count": 52,
     "metadata": {},
     "output_type": "execute_result"
    }
   ],
   "source": [
    "dataset.head()"
   ]
  },
  {
   "cell_type": "markdown",
   "metadata": {},
   "source": [
    "# Predizioni"
   ]
  },
  {
   "cell_type": "code",
   "execution_count": 53,
   "metadata": {},
   "outputs": [],
   "source": [
    "X_smoke, y_smoke, X_drink, y_drink = split_dataset_v1(dataset)"
   ]
  },
  {
   "cell_type": "code",
   "execution_count": null,
   "metadata": {},
   "outputs": [],
   "source": [
    "pipelines = {\n",
    "    \"svm\": Pipeline([(\"scaler\", StandardScaler()), (\"pca\", PCA(n_components=0.95)), (\"svm\", LinearSVC(random_state=42, C=0.1, class_weight=\"balanced\"))]),\n",
    "    \"knn\": Pipeline([(\"scaler\", StandardScaler()), (\"pca\", PCA(n_components=0.95 )), (\"knn\", KNeighborsClassifier(n_neighbors=500, n_jobs=-1))]),\n",
    "}"
   ]
  },
  {
   "cell_type": "code",
   "execution_count": 55,
   "metadata": {},
   "outputs": [],
   "source": [
    "X_train_d, X_test_d, y_train_d, y_test_d = train_test_split(X_drink, y_drink, test_size=0.2, random_state=42, stratify=y_drink)\n",
    "X_train_s, X_test_s, y_train_s, y_test_s = train_test_split(X_smoke, y_smoke, test_size=0.2, random_state=42, stratify=y_smoke)"
   ]
  },
  {
   "cell_type": "markdown",
   "metadata": {},
   "source": [
    "### Drinking"
   ]
  },
  {
   "cell_type": "code",
   "execution_count": 56,
   "metadata": {},
   "outputs": [
    {
     "name": "stdout",
     "output_type": "stream",
     "text": [
      "Training svm... took 2.94 seconds\n",
      "Training knn... took 0.49 seconds\n"
     ]
    }
   ],
   "source": [
    "for name, pipeline in pipelines.items():\n",
    "    print(f\"Training {name}...\", end=\" \")\n",
    "    t0 = time.time()\n",
    "\n",
    "    pipeline.fit(X_train_d, y_train_d)  \n",
    "    \n",
    "    print(f\"took {time.time() - t0:.2f} seconds\")"
   ]
  },
  {
   "cell_type": "code",
   "execution_count": 57,
   "metadata": {},
   "outputs": [
    {
     "name": "stdout",
     "output_type": "stream",
     "text": [
      "Classification report per svm:\n",
      "              precision    recall  f1-score   support\n",
      "\n",
      "           0       0.72      0.72      0.72     99172\n",
      "           1       0.72      0.72      0.72     99098\n",
      "\n",
      "    accuracy                           0.72    198270\n",
      "   macro avg       0.72      0.72      0.72    198270\n",
      "weighted avg       0.72      0.72      0.72    198270\n",
      "\n"
     ]
    },
    {
     "data": {
      "image/png": "[encoded data removed]",
      "text/plain": [
       "<Figure size 600x600 with 1 Axes>"
      ]
     },
     "metadata": {},
     "output_type": "display_data"
    },
    {
     "name": "stdout",
     "output_type": "stream",
     "text": [
      "Classification report per knn:\n",
      "              precision    recall  f1-score   support\n",
      "\n",
      "           0       0.73      0.68      0.70     99172\n",
      "           1       0.70      0.75      0.72     99098\n",
      "\n",
      "    accuracy                           0.71    198270\n",
      "   macro avg       0.71      0.71      0.71    198270\n",
      "weighted avg       0.71      0.71      0.71    198270\n",
      "\n"
     ]
    },
    {
     "data": {
      "image/png": "[encoded data removed]",
      "text/plain": [
       "<Figure size 600x600 with 1 Axes>"
      ]
     },
     "metadata": {},
     "output_type": "display_data"
    }
   ],
   "source": [
    "for name, pipeline in pipelines.items():\n",
    "    y_pred_drink = pipeline.predict(X_test_d)\n",
    "\n",
    "    report_drink = classification_report(y_test_d, y_pred_drink)\n",
    "\n",
    "    print(f\"Classification report per {name}:\")\n",
    "    print(report_drink)\n",
    "\n",
    "    plot_confusion_matrix(y_test_d, y_pred_drink, [\"Y\", \"N\"], f\"Confusion Matrix per {name}\")"
   ]
  },
  {
   "cell_type": "markdown",
   "metadata": {},
   "source": [
    "### Smoking"
   ]
  },
  {
   "cell_type": "code",
   "execution_count": 58,
   "metadata": {},
   "outputs": [
    {
     "name": "stdout",
     "output_type": "stream",
     "text": [
      "Training svm... took 11.86 seconds\n",
      "Training knn... took 0.42 seconds\n"
     ]
    }
   ],
   "source": [
    "for name, pipeline in pipelines.items():\n",
    "    print(f\"Training {name}...\", end=\" \")\n",
    "    t0 = time.time()\n",
    "\n",
    "    pipeline.fit(X_train_s, y_train_s)  \n",
    "    \n",
    "    print(f\"took {time.time() - t0:.2f} seconds\")"
   ]
  },
  {
   "cell_type": "code",
   "execution_count": 59,
   "metadata": {},
   "outputs": [
    {
     "name": "stdout",
     "output_type": "stream",
     "text": [
      "Classification report per svm:\n",
      "              precision    recall  f1-score   support\n",
      "\n",
      "         1.0       0.89      0.76      0.82    120489\n",
      "         2.0       0.41      0.44      0.43     34990\n",
      "         3.0       0.48      0.63      0.54     42791\n",
      "\n",
      "    accuracy                           0.68    198270\n",
      "   macro avg       0.59      0.61      0.60    198270\n",
      "weighted avg       0.71      0.68      0.69    198270\n",
      "\n"
     ]
    },
    {
     "data": {
      "image/png": "[encoded data removed]",
      "text/plain": [
       "<Figure size 600x600 with 1 Axes>"
      ]
     },
     "metadata": {},
     "output_type": "display_data"
    },
    {
     "name": "stdout",
     "output_type": "stream",
     "text": [
      "Classification report per knn:\n",
      "              precision    recall  f1-score   support\n",
      "\n",
      "         1.0       0.82      0.82      0.82    120489\n",
      "         2.0       0.43      0.34      0.38     34990\n",
      "         3.0       0.49      0.57      0.53     42791\n",
      "\n",
      "    accuracy                           0.68    198270\n",
      "   macro avg       0.58      0.58      0.58    198270\n",
      "weighted avg       0.68      0.68      0.68    198270\n",
      "\n"
     ]
    },
    {
     "data": {
      "image/png": "[encoded data removed]",
      "text/plain": [
       "<Figure size 600x600 with 1 Axes>"
      ]
     },
     "metadata": {},
     "output_type": "display_data"
    }
   ],
   "source": [
    "for name, pipeline in pipelines.items():\n",
    "    y_pred_smoke = pipeline.predict(X_test_s)\n",
    "\n",
    "    report_smoke = classification_report(y_test_s, y_pred_smoke)\n",
    "\n",
    "    print(f\"Classification report per {name}:\")\n",
    "    print(report_smoke)\n",
    "\n",
    "    plot_confusion_matrix(y_test_s, y_pred_smoke, [\"Never Smoked\", \"Ex-Smoker\", \"Smoker\"], f\"Confusion Matrix per {name}\")"
   ]
  }
 ],
 "metadata": {
  "kernelspec": {
   "display_name": "venv",
   "language": "python",
   "name": "python3"
  },
  "language_info": {
   "codemirror_mode": {
    "name": "ipython",
    "version": 3
   },
   "file_extension": ".py",
   "mimetype": "text/x-python",
   "name": "python",
   "nbconvert_exporter": "python",
   "pygments_lexer": "ipython3",
   "version": "3.9.6"
  }
 },
 "nbformat": 4,
 "nbformat_minor": 2
}
